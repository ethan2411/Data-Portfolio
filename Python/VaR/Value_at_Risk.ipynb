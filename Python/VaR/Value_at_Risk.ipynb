{
  "nbformat": 4,
  "nbformat_minor": 0,
  "metadata": {
    "colab": {
      "provenance": []
    },
    "kernelspec": {
      "name": "python3",
      "display_name": "Python 3"
    },
    "language_info": {
      "name": "python"
    }
  },
  "cells": [
    {
      "cell_type": "markdown",
      "source": [
        "# Calculating Value at Risk and Conditional VaR"
      ],
      "metadata": {
        "id": "o22SLkAglayE"
      }
    },
    {
      "cell_type": "markdown",
      "source": [
        "We will be calculating VaR using three methods\n",
        " - Historical Method\n",
        " - Parametric Method\n",
        " - Monte Carlo Method"
      ],
      "metadata": {
        "id": "HrRbmcQOl_sP"
      }
    },
    {
      "cell_type": "markdown",
      "source": [
        "## Gathering Historical Data"
      ],
      "metadata": {
        "id": "iP1u4n_Xl86t"
      }
    },
    {
      "cell_type": "code",
      "execution_count": 1,
      "metadata": {
        "id": "HYvyBC3sU1jP"
      },
      "outputs": [],
      "source": [
        "import pandas as pd\n",
        "import numpy as np\n",
        "import datetime as dt\n",
        "import yfinance as yf\n",
        "from scipy.stats import norm, t\n",
        "import matplotlib.pyplot as plt"
      ]
    },
    {
      "cell_type": "code",
      "source": [
        "# Import data\n",
        "def getData(stocks, start, end):\n",
        "    stockData = yf.download(stocks, start=start, end=end)\n",
        "    stockData = stockData['Close']\n",
        "    log_returns = np.log(stockData / stockData.shift(1))  # Calculate log returns\n",
        "    meanReturns = log_returns.mean()\n",
        "    covMatrix = log_returns.cov()\n",
        "    return log_returns, meanReturns, covMatrix"
      ],
      "metadata": {
        "id": "59jcFmKTm5m4"
      },
      "execution_count": 26,
      "outputs": []
    },
    {
      "cell_type": "code",
      "source": [
        "# Portfolio Performance\n",
        "def portfolioPerformance(weights, meanReturns, covMatrix, Time):\n",
        "    log_returns = np.sum(meanReturns*weights)*Time\n",
        "    std = np.sqrt( np.dot(weights.T, np.dot(covMatrix, weights)) ) * np.sqrt(Time)\n",
        "    return log_returns, std"
      ],
      "metadata": {
        "id": "prJRcU5Am-kq"
      },
      "execution_count": 27,
      "outputs": []
    },
    {
      "cell_type": "code",
      "source": [
        "stockList = ['CBA', 'BHP', 'TLS', 'NAB', 'WBC', 'STO']\n",
        "stocks = [stock+'.AX' for stock in stockList]\n",
        "endDate = dt.datetime.now()\n",
        "startDate = endDate - dt.timedelta(days=800)\n",
        "\n",
        "log_returns, meanlog_returns, covMatrix = getData(stocks, start=startDate, end=endDate)\n",
        "log_returns = log_returns.dropna()\n",
        "\n",
        "#randomly weighting the portolio\n",
        "weights = np.random.random(len(log_returns.columns))\n",
        "weights /= np.sum(weights)\n",
        "\n",
        "log_returns['portfolio'] = log_returns.dot(weights)"
      ],
      "metadata": {
        "colab": {
          "base_uri": "https://localhost:8080/"
        },
        "id": "PuDeTxR0px6z",
        "outputId": "b923e567-7274-44e7-c9e1-99d0de887aaf"
      },
      "execution_count": 28,
      "outputs": [
        {
          "output_type": "stream",
          "name": "stderr",
          "text": [
            "[*********************100%%**********************]  6 of 6 completed\n"
          ]
        }
      ]
    },
    {
      "cell_type": "markdown",
      "source": [
        "## Historical Method for VaR"
      ],
      "metadata": {
        "id": "G7E2g0AvnlMb"
      }
    },
    {
      "cell_type": "markdown",
      "source": [
        "Creating the function for  Historical Var"
      ],
      "metadata": {
        "id": "5Ak4M7g1pGHJ"
      }
    },
    {
      "cell_type": "code",
      "source": [
        "def historicalVar(log_returns, alpha = 5):\n",
        "  if isinstance(log_returns, pd.Series):\n",
        "    return np.percentile(log_returns, alpha)\n",
        "\n",
        "  elif isinstance(log_returns, pd.DataFrame):\n",
        "    return log_returns.aggregate(historicalVar, alpha =5)\n",
        "\n",
        "  else:\n",
        "    raise TypeError(\"Log Returns should be DF or Series\")"
      ],
      "metadata": {
        "id": "Y5xPkcndnq02"
      },
      "execution_count": 29,
      "outputs": []
    },
    {
      "cell_type": "markdown",
      "source": [
        "Checking Historical VaR for our portfolio"
      ],
      "metadata": {
        "id": "CuuYXUtMpN7i"
      }
    },
    {
      "cell_type": "code",
      "source": [
        "print(historicalVar(log_returns, alpha =5))"
      ],
      "metadata": {
        "colab": {
          "base_uri": "https://localhost:8080/"
        },
        "id": "nVQQwpxRomlc",
        "outputId": "dce117e8-bfc6-49f8-becb-636a31aa3c8a"
      },
      "execution_count": 30,
      "outputs": [
        {
          "output_type": "stream",
          "name": "stdout",
          "text": [
            "Ticker\n",
            "BHP.AX      -0.028647\n",
            "CBA.AX      -0.020155\n",
            "NAB.AX      -0.020974\n",
            "STO.AX      -0.027132\n",
            "TLS.AX      -0.013122\n",
            "WBC.AX      -0.020322\n",
            "portfolio   -0.015547\n",
            "dtype: float64\n"
          ]
        }
      ]
    },
    {
      "cell_type": "code",
      "source": [
        "print(historicalVar(log_returns['portfolio'], alpha =5))"
      ],
      "metadata": {
        "colab": {
          "base_uri": "https://localhost:8080/"
        },
        "id": "atqds6RIo5mt",
        "outputId": "6f68974a-a349-4d00-df1e-7633df833c04"
      },
      "execution_count": 31,
      "outputs": [
        {
          "output_type": "stream",
          "name": "stdout",
          "text": [
            "-0.015546905843632688\n"
          ]
        }
      ]
    },
    {
      "cell_type": "markdown",
      "source": [
        "Creating function for Historical CVar"
      ],
      "metadata": {
        "id": "BosVV4wgpRr8"
      }
    },
    {
      "cell_type": "code",
      "source": [
        "def historicalCVar(log_returns, alpha = 5):\n",
        "  if isinstance(log_returns, pd.Series):\n",
        "    belowVaR = log_returns <= historicalVar(log_returns, alpha=alpha)\n",
        "    return log_returns[belowVaR].mean()\n",
        "\n",
        "  elif isinstance(log_returns, pd.DataFrame):\n",
        "    return log_returns.aggregate(historicalCVar, alpha =5)\n",
        "\n",
        "  else:\n",
        "    raise TypeError(\"Log Returns should be DF or Series\")"
      ],
      "metadata": {
        "id": "HP0fWpszpVEI"
      },
      "execution_count": 32,
      "outputs": []
    },
    {
      "cell_type": "markdown",
      "source": [
        "Checking Historical CVaR for our portfolio"
      ],
      "metadata": {
        "id": "Uj2YU3W5pb2Y"
      }
    },
    {
      "cell_type": "code",
      "source": [
        "print(historicalCVar(log_returns, alpha =5))"
      ],
      "metadata": {
        "colab": {
          "base_uri": "https://localhost:8080/"
        },
        "id": "Q31H1YDophkC",
        "outputId": "a73fc42b-420a-4b32-a2d0-d3bf1f177aa2"
      },
      "execution_count": 33,
      "outputs": [
        {
          "output_type": "stream",
          "name": "stdout",
          "text": [
            "Ticker\n",
            "BHP.AX      -0.043195\n",
            "CBA.AX      -0.027775\n",
            "NAB.AX      -0.029707\n",
            "STO.AX      -0.042358\n",
            "TLS.AX      -0.021695\n",
            "WBC.AX      -0.029366\n",
            "portfolio   -0.021678\n",
            "dtype: float64\n"
          ]
        }
      ]
    },
    {
      "cell_type": "code",
      "source": [
        "print(historicalCVar(log_returns['portfolio'], alpha =5))"
      ],
      "metadata": {
        "colab": {
          "base_uri": "https://localhost:8080/"
        },
        "id": "GXZ_ijC6qmbj",
        "outputId": "9ad807ae-5401-43ea-9f60-2bf05583b44b"
      },
      "execution_count": 34,
      "outputs": [
        {
          "output_type": "stream",
          "name": "stdout",
          "text": [
            "-0.02167776664760457\n"
          ]
        }
      ]
    },
    {
      "cell_type": "markdown",
      "source": [
        "Overall information"
      ],
      "metadata": {
        "id": "kJuoanofq6Jn"
      }
    },
    {
      "cell_type": "code",
      "source": [
        "pRet, pStd = portfolioPerformance(weights, meanlog_returns, covMatrix, 365)"
      ],
      "metadata": {
        "id": "96EUpA1nrH_h"
      },
      "execution_count": 35,
      "outputs": []
    },
    {
      "cell_type": "code",
      "source": [
        "InitialInvestment = 10000\n",
        "print('Expected Portfolio Return:      ', round(InitialInvestment*pRet,2))\n",
        "print('Value at Risk 95th CI    :      ', round(InitialInvestment*historicalVar(log_returns['portfolio'], alpha =5),2))\n",
        "print('Conditional VaR 95th CI  :      ', round(InitialInvestment*historicalCVar(log_returns['portfolio'], alpha =5),2))"
      ],
      "metadata": {
        "colab": {
          "base_uri": "https://localhost:8080/"
        },
        "id": "cVpT0-NCq7tt",
        "outputId": "8f7dcc43-6816-41ce-86f6-489a45e84d1c"
      },
      "execution_count": 36,
      "outputs": [
        {
          "output_type": "stream",
          "name": "stdout",
          "text": [
            "Expected Portfolio Return:       718.43\n",
            "Value at Risk 95th CI    :       -155.47\n",
            "Conditional VaR 95th CI  :       -216.78\n"
          ]
        }
      ]
    },
    {
      "cell_type": "markdown",
      "source": [
        "If we invest \\$10,000 in the portfolio, based on our analysis using log returns, we can anticipate a return of approximately \\$718.43. With 95% confidence, we estimate that our maximum potential loss would be around \\$155.47. However, in the remaining 5% of scenarios, we could experience a larger loss of approximately \\$216.78. These estimates provide insights into the potential risks and rewards associated with our investment strategy, taking into account the properties of log returns."
      ],
      "metadata": {
        "id": "YqemSbKmrqF2"
      }
    },
    {
      "cell_type": "markdown",
      "source": [
        "## Parametric Method for VaR"
      ],
      "metadata": {
        "id": "_4HJBzZYpiIg"
      }
    },
    {
      "cell_type": "code",
      "source": [],
      "metadata": {
        "id": "n4uZY6bdpnob"
      },
      "execution_count": null,
      "outputs": []
    },
    {
      "cell_type": "markdown",
      "source": [
        "## Monte Carlo Method for VaR"
      ],
      "metadata": {
        "id": "Yfne4SZ3pn1B"
      }
    },
    {
      "cell_type": "code",
      "source": [],
      "metadata": {
        "id": "pPpmdbHLprOT"
      },
      "execution_count": null,
      "outputs": []
    }
  ]
}