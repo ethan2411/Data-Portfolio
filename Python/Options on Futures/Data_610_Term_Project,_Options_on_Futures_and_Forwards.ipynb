{
  "nbformat": 4,
  "nbformat_minor": 0,
  "metadata": {
    "colab": {
      "provenance": []
    },
    "kernelspec": {
      "name": "python3",
      "display_name": "Python 3"
    },
    "language_info": {
      "name": "python"
    }
  },
  "cells": [
    {
      "cell_type": "code",
      "execution_count": null,
      "metadata": {
        "id": "Q7VOF7YZ-riP"
      },
      "outputs": [],
      "source": [
        "import pandas as pf\n",
        "import numpy as np\n",
        "import matplotlib.pyplot as plt\n",
        "import scipy.stats as stats\n",
        "import yfinance as yf\n",
        "import pandas_datareader.data as web"
      ]
    },
    {
      "cell_type": "markdown",
      "source": [
        "# Black-76 Model"
      ],
      "metadata": {
        "id": "1F91jcKw-zQj"
      }
    },
    {
      "cell_type": "code",
      "source": [
        "def Black_76(F, K, T, r, sigma, option_type = 'call'):\n",
        "\n",
        "  y_1 = (np.log(F/K)+T*((sigma**2/2)))/(sigma*np.sqrt(T))\n",
        "  y_2 = (np.log(F/K)-T*((sigma**2/2)))/(sigma*np.sqrt(T))\n",
        "\n",
        "  if option_type == 'call':\n",
        "    option_price = np.exp(-r*T)*(F*stats.norm.cdf(y_1) - K*stats.norm.cdf(y_2))\n",
        "  elif option_type == 'put':\n",
        "    option_price = np.exp(-r*T)*(K*stats.norm.cdf(-y_2) - F*stats.norm.cdf(-y_1))\n",
        "  else:\n",
        "    return \"Invalid Option Type\"\n",
        "\n",
        "  return round(option_price,2)"
      ],
      "metadata": {
        "id": "8MY_m2bm-wsu"
      },
      "execution_count": null,
      "outputs": []
    },
    {
      "cell_type": "code",
      "source": [
        "F = 50     # Current Future price\n",
        "K = 55    # Strike price\n",
        "T = 0.5    # Time to expiration (in years)\n",
        "r = 0.1     # Risk-free interest rate\n",
        "sigma = 0.2  # Volatility\n",
        "\n",
        "print(\"C^E(0) = \", Black_76(F, K, T, r, sigma, option_type='call'))\n",
        "print(\"P^E(0) = \", Black_76(F, K, T, r, sigma, option_type='put'))"
      ],
      "metadata": {
        "colab": {
          "base_uri": "https://localhost:8080/"
        },
        "id": "1euzxj_R_dzV",
        "outputId": "39868bc1-11d1-45e0-d19f-62e0724e6b15"
      },
      "execution_count": null,
      "outputs": [
        {
          "output_type": "stream",
          "name": "stdout",
          "text": [
            "C^E(0) =  1.05\n",
            "P^E(0) =  5.81\n"
          ]
        }
      ]
    },
    {
      "cell_type": "markdown",
      "source": [
        "# Bachelier Model"
      ],
      "metadata": {
        "id": "k7HvTx3_fzOI"
      }
    },
    {
      "cell_type": "code",
      "source": [
        "def bachelier_option_price(F, K, T, sigma, r, option_type='call'):\n",
        "    d1 = (F - K) / (sigma * np.sqrt(T))\n",
        "    if option_type == 'call':\n",
        "      option_price = np.exp(-r*T)*(((F - K) * stats.norm.cdf(d1)) + (sigma * np.sqrt(T) * stats.norm.pdf(d1)))\n",
        "    elif option_type == 'put':\n",
        "      option_price = np.exp(-r*T)*(((K - F) *stats.norm.cdf(-d1)) + (sigma * np.sqrt(T) * stats.norm.pdf(-d1)))\n",
        "\n",
        "    return round(option_price,2)"
      ],
      "metadata": {
        "id": "lFIyFVhHf0z-"
      },
      "execution_count": null,
      "outputs": []
    },
    {
      "cell_type": "code",
      "source": [
        "#Positive Option\n",
        "F = 50     # Current Future price\n",
        "K = 55    # Strike price\n",
        "T = 0.5    # Time to expiration (in years)\n",
        "r = 0.1     # Risk-free interest rate\n",
        "sigma = 0.2  # Volatility\n",
        "\n",
        "print(\"C^E(0) = \", bachelier_option_price(F, K, T, sigma, r, option_type='call'))\n",
        "print(\"P^E(0) = \", bachelier_option_price(F, K, T, sigma, r, option_type='put'))"
      ],
      "metadata": {
        "colab": {
          "base_uri": "https://localhost:8080/"
        },
        "id": "61XWSq2Osgr4",
        "outputId": "a0925722-e5ee-45af-a483-f2a1ba3cb89e"
      },
      "execution_count": null,
      "outputs": [
        {
          "output_type": "stream",
          "name": "stdout",
          "text": [
            "C^E(0) =  0.0\n",
            "P^E(0) =  4.76\n"
          ]
        }
      ]
    },
    {
      "cell_type": "code",
      "source": [
        "#Negative Option\n",
        "F = -10    # Current Future price\n",
        "K = -1    # Strike price\n",
        "T = 0.5    # Time to expiration (in years)\n",
        "r = 0.1     # Risk-free interest rate\n",
        "sigma = 0.2  # Volatility\n",
        "\n",
        "print(\"C^E(0) = \", bachelier_option_price(F, K, T,sigma, r, option_type='call'))\n",
        "print(\"P^E(0) = \", bachelier_option_price(F, K, T, sigma, r, option_type='put'))"
      ],
      "metadata": {
        "colab": {
          "base_uri": "https://localhost:8080/"
        },
        "id": "X_IPd1Sk-iF2",
        "outputId": "0fcc39b0-d65f-4f4c-ac14-ae17b5b9508c"
      },
      "execution_count": null,
      "outputs": [
        {
          "output_type": "stream",
          "name": "stdout",
          "text": [
            "C^E(0) =  0.0\n",
            "P^E(0) =  8.56\n"
          ]
        }
      ]
    },
    {
      "cell_type": "markdown",
      "source": [
        "# Vasicek Model"
      ],
      "metadata": {
        "id": "Fzn2rsLvrKcK"
      }
    },
    {
      "cell_type": "code",
      "source": [
        "def vasicek_option_price(F, K, T, sigma, r, b, a, lam, option_type='call'):\n",
        "    B = b - (lam*sigma/a)\n",
        "    d1 = ((np.exp(-a*T)*(F-B)) -K)/(sigma*np.sqrt((1-np.exp(-2*a*T))/(2*a)))\n",
        "    if option_type == 'call':\n",
        "        option_price = (np.exp(-r*T))*((np.exp(a*T)*(F-B) -K)*stats.norm.cdf(d1) + sigma*np.sqrt((1-np.exp(-2*a*T))/(2*a))*stats.norm.pdf(d1))\n",
        "    elif option_type == 'put':\n",
        "        option_price = ((np.exp(-r*T))*((np.exp(a*T)*(F-B) -K)*stats.norm.cdf(d1) + sigma*np.sqrt((1-np.exp(-2*a*T))/(2*a))*stats.norm.pdf(d1))) + K*np.exp(-r*T) - F*np.exp(-r*T)\n",
        "    return round(option_price, 2)"
      ],
      "metadata": {
        "id": "PHyOEBKlkwFj"
      },
      "execution_count": null,
      "outputs": []
    },
    {
      "cell_type": "code",
      "source": [
        "F = 50     # Current Future price\n",
        "K = 55    # Strike price\n",
        "T = 0.5    # Time to expiration (in years)\n",
        "r = 0.1     # Risk-free interest rate\n",
        "sigma = 0.2  # Volatility\n",
        "b = 50  # Mean reversion level\n",
        "a = 2  # Mean reversion speed\n",
        "lam = 0.5  # Market price of risk\n",
        "\n",
        "option_price_call = vasicek_option_price(F, K, T, sigma, r, b, a, lam, option_type='call')\n",
        "print(\"C^E(0) = \", option_price_call)\n",
        "option_price_put = vasicek_option_price(F, K, T, sigma, r, b, a, lam, option_type='put')\n",
        "print(\"P^E(0) = \", option_price_put)"
      ],
      "metadata": {
        "colab": {
          "base_uri": "https://localhost:8080/"
        },
        "id": "PZ9p3ShmYmrP",
        "outputId": "c231b47f-c8f8-46d9-930a-fa0361cca53b"
      },
      "execution_count": null,
      "outputs": [
        {
          "output_type": "stream",
          "name": "stdout",
          "text": [
            "C^E(0) =  0.0\n",
            "P^E(0) =  4.76\n"
          ]
        }
      ]
    },
    {
      "cell_type": "code",
      "source": [
        "#Negative Prices\n",
        "F = -10     # Current Future price\n",
        "K = -1    # Strike price\n",
        "T = 0.5    # Time to expiration (in years)\n",
        "r = 0.1     # Risk-free interest rate\n",
        "sigma = 0.2  # Volatility\n",
        "b = 2  # Mean reversion level\n",
        "a = 2  # Mean reversion speed\n",
        "lam = 0.5  # Market price of risk\n",
        "\n",
        "option_price_call = vasicek_option_price(F, K, T, sigma, r, b, a, lam, option_type='call')\n",
        "print(\"C^E(0) = \", option_price_call)\n",
        "option_price_put = vasicek_option_price(F, K, T, sigma, r, b, a, lam, option_type='put')\n",
        "print(\"P^E(0) = \", option_price_put)"
      ],
      "metadata": {
        "colab": {
          "base_uri": "https://localhost:8080/"
        },
        "id": "tPCd8pYKdecM",
        "outputId": "95889b78-f835-4fc9-f878-58a02d1c54fd"
      },
      "execution_count": null,
      "outputs": [
        {
          "output_type": "stream",
          "name": "stdout",
          "text": [
            "C^E(0) =  -0.0\n",
            "P^E(0) =  8.56\n"
          ]
        }
      ]
    },
    {
      "cell_type": "markdown",
      "source": [
        "# OU Model"
      ],
      "metadata": {
        "id": "U6duQ5e-skFR"
      }
    },
    {
      "cell_type": "code",
      "source": [
        "def ou_option_price(F, K, T, sigma, r, a, lam, option_type='call'):\n",
        "  A = a + lam*sigma\n",
        "  d2 = (np.exp(-A*T)*F-K)\n",
        "  d3 = (sigma * np.sqrt((1-np.exp(-2*A*T))/(2*A)))\n",
        "  d1 =d2/d3\n",
        "  if option_type == 'call':\n",
        "        option_price = np.exp(-r*T)*(d2*stats.norm.cdf(d1) + d3*stats.norm.pdf(d1))\n",
        "  elif option_type == 'put':\n",
        "        option_price = (np.exp(-r*T)*(d2*stats.norm.cdf(d1) + d3*stats.norm.pdf(d1))) + K*np.exp(-r*T) - F*np.exp(-r*T)\n",
        "  return round(option_price, 2)"
      ],
      "metadata": {
        "id": "YpUrOkJ_aHJ8"
      },
      "execution_count": null,
      "outputs": []
    },
    {
      "cell_type": "code",
      "source": [
        "F = 50     # Current Future price\n",
        "K = 55    # Strike price\n",
        "T = 0.5    # Time to expiration (in years)\n",
        "r = 0.1     # Risk-free interest rate\n",
        "sigma = 0.2  # Volatility\n",
        "a = 2  # Mean reversion speed\n",
        "lambda_ = 0.5  # Market price of risk\n",
        "\n",
        "option_price_call = ou_option_price(F, K, T, sigma, r, a, lam, option_type='call')\n",
        "print(\"C^E(0) = \", option_price_call)\n",
        "\n",
        "# Calculate put option price\n",
        "option_price_put = ou_option_price(F, K, T, sigma, r, a, lam, option_type='put')\n",
        "print(\"P^E(0) = \", option_price_put)"
      ],
      "metadata": {
        "colab": {
          "base_uri": "https://localhost:8080/"
        },
        "id": "KLCPtCHQd9mP",
        "outputId": "3dddbfe7-a942-4f20-ed6e-4f567a7f402c"
      },
      "execution_count": null,
      "outputs": [
        {
          "output_type": "stream",
          "name": "stdout",
          "text": [
            "C^E(0) =  0.0\n",
            "P^E(0) =  4.76\n"
          ]
        }
      ]
    },
    {
      "cell_type": "code",
      "source": [
        "#Negative Prices\n",
        "F = -10     # Current Future price\n",
        "K = -1    # Strike price\n",
        "T = 0.5    # Time to expiration (in years)\n",
        "r = 0.1     # Risk-free interest rate\n",
        "sigma = 0.2  # Volatility\n",
        "a = 2  # Mean reversion speed\n",
        "lambda_ = 0.5  # Market price of risk\n",
        "\n",
        "option_price_call = ou_option_price(F, K, T, sigma, r, a, lam, option_type='call')\n",
        "print(\"C^E(0) = \", option_price_call)\n",
        "\n",
        "# Calculate put option price\n",
        "option_price_put = ou_option_price(F, K, T, sigma, r, a, lam, option_type='put')\n",
        "print(\"P^E(0) = \", option_price_put)"
      ],
      "metadata": {
        "colab": {
          "base_uri": "https://localhost:8080/"
        },
        "id": "_k9bb6lodqcP",
        "outputId": "ad0af7ae-50ea-43d3-a17d-1ff89a534640"
      },
      "execution_count": null,
      "outputs": [
        {
          "output_type": "stream",
          "name": "stdout",
          "text": [
            "C^E(0) =  0.0\n",
            "P^E(0) =  8.56\n"
          ]
        }
      ]
    }
  ]
}